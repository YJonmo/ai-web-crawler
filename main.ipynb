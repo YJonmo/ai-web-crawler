{
 "cells": [
  {
   "cell_type": "markdown",
   "metadata": {},
   "source": [
    "#### Import the necessary libraries"
   ]
  },
  {
   "cell_type": "code",
   "execution_count": 1,
   "metadata": {},
   "outputs": [
    {
     "data": {
      "text/plain": [
       "True"
      ]
     },
     "execution_count": 1,
     "metadata": {},
     "output_type": "execute_result"
    }
   ],
   "source": [
    "import asyncio\n",
    "\n",
    "from crawl4ai import AsyncWebCrawler\n",
    "from dotenv import load_dotenv\n",
    "import pandas as pd\n",
    "from config import BASE_URL, CSS_SELECTOR, REQUIRED_KEYS\n",
    "from utils.data_utils import (\n",
    "    custom_modify_data,\n",
    "    save_products_to_csv,\n",
    ")\n",
    "from utils.scraper_utils import (\n",
    "    get_llm_config,\n",
    "    fetch_and_process_page,\n",
    "    get_browser_config,\n",
    "    get_llm_strategy,\n",
    ")\n",
    "from matplotlib import pyplot as plt\n",
    "load_dotenv()"
   ]
  },
  {
   "cell_type": "markdown",
   "metadata": {},
   "source": [
    "#### This the main function for crawling the target website (Bunnings Ceiling Lights) that was defined in the config.py"
   ]
  },
  {
   "cell_type": "code",
   "execution_count": 2,
   "metadata": {},
   "outputs": [],
   "source": [
    "\n",
    "async def crawl_products(num_pages:int=None)->pd.DataFrame:\n",
    "    \"\"\"\n",
    "    Main function to crawl product data from the website.\n",
    "    \"\"\"\n",
    "    # Initialize configurations\n",
    "    browser_config = get_browser_config()\n",
    "    llm_config = get_llm_config()\n",
    "    llm_strategy = get_llm_strategy(llm_config)\n",
    "    session_id = \"product_crawl_session\"\n",
    "\n",
    "    # Initialize state variables\n",
    "    page_number = 1\n",
    "    all_products = []\n",
    "    seen_titles = set()\n",
    "\n",
    "    # Start the web crawler context\n",
    "    # https://docs.crawl4ai.com/api/async-webcrawler/#asyncwebcrawler\n",
    "    async with AsyncWebCrawler(config=browser_config) as crawler:\n",
    "        while True:\n",
    "            # Fetch and process data from the current page\n",
    "            products, no_results_found = await fetch_and_process_page(\n",
    "                crawler,\n",
    "                page_number,\n",
    "                BASE_URL,\n",
    "                CSS_SELECTOR,\n",
    "                llm_strategy,\n",
    "                session_id,\n",
    "                REQUIRED_KEYS,\n",
    "                seen_titles,\n",
    "            )\n",
    "\n",
    "            if no_results_found:\n",
    "                print(\"No more products found. Ending crawl.\")\n",
    "                break  # Stop crawling when \"No Results Found\" message appears\n",
    "\n",
    "            if not products:\n",
    "                print(f\"No products extracted from page {page_number}.\")\n",
    "                break  # Stop if no products are extracted\n",
    "\n",
    "            # Add the products from this page to the total list\n",
    "            all_products.extend(products)\n",
    "            page_number += 1  # Move to the next page\n",
    "\n",
    "            # if a fixed number of pages are supposded to be read then check here\n",
    "            if num_pages and page_number >= num_pages:\n",
    "                break\n",
    "            \n",
    "            # Pause between requests to be polite and avoid rate limits\n",
    "            await asyncio.sleep(2)  # Adjust sleep time as needed\n",
    "\n",
    "    return custom_modify_data(all_products)"
   ]
  },
  {
   "cell_type": "markdown",
   "metadata": {},
   "source": [
    "#### Start crawling the website page by page"
   ]
  },
  {
   "cell_type": "code",
   "execution_count": 6,
   "metadata": {},
   "outputs": [
    {
     "name": "stdout",
     "output_type": "stream",
     "text": [
      "[INIT].... → Crawl4AI 0.4.247\n",
      "Loading page 1...\n",
      "[FETCH]... ↓ https://www.bunnings.com.au/search/products?&q=cei... | Status: True | Time: 6.75s\n",
      "[SCRAPE].. ◆ Processed https://www.bunnings.com.au/search/products?&q=cei... | Time: 292ms\n",
      "[COMPLETE] ● https://www.bunnings.com.au/search/products?&q=cei... | Status: True | Total: 7.05s\n",
      "[FETCH]... ↓ https://www.bunnings.com.au/search/products?&q=cei... | Status: True | Time: 7.99s\n",
      "[SCRAPE].. ◆ Processed https://www.bunnings.com.au/search/products?&q=cei... | Time: 321ms\n",
      "[LOG] Call LLM for https://www.bunnings.com.au/search/products?&q=ceiling+lights&sort=BoostOrder?&page=1 - block index: 0\n"
     ]
    },
    {
     "name": "stderr",
     "output_type": "stream",
     "text": [
      "16:24:53 - LiteLLM:INFO: utils.py:3075 - \n",
      "LiteLLM completion() model= deepseek-r1-distill-llama-70b; provider = groq\n",
      "INFO:LiteLLM:\n",
      "LiteLLM completion() model= deepseek-r1-distill-llama-70b; provider = groq\n",
      "INFO:httpx:HTTP Request: POST https://api.groq.com/openai/v1/chat/completions \"HTTP/1.1 200 OK\"\n",
      "16:25:12 - LiteLLM:INFO: utils.py:1177 - Wrapper: Completed Call, calling success_handler\n",
      "INFO:LiteLLM:Wrapper: Completed Call, calling success_handler\n",
      "16:25:12 - LiteLLM:INFO: cost_calculator.py:622 - selected model name for cost calculation: groq/deepseek-r1-distill-llama-70b\n",
      "INFO:LiteLLM:selected model name for cost calculation: groq/deepseek-r1-distill-llama-70b\n"
     ]
    },
    {
     "name": "stdout",
     "output_type": "stream",
     "text": [
      "[LOG] Extracted 36 blocks from URL: https://www.bunnings.com.au/search/products?&q=ceiling+lights&sort=BoostOrder?&page=1 block index: 0\n",
      "[EXTRACT]. ■ Completed for https://www.bunnings.com.au/search/products?&q=cei... | Time: 18.83459328103345s\n",
      "[COMPLETE] ● https://www.bunnings.com.au/search/products?&q=cei... | Status: True | Total: 27.19s\n",
      "Extracted data: [{'title': 'Luce Bella 30cm Alabaster Oyster Light', 'price': '$19.90', 'reviews': 14}, {'title': 'Philips Oyster LED 1700Lm Cool White 17W', 'price': '$45', 'reviews': 14}, {'title': 'Brilliant 30cm Plug In DIY Tri Colour Calle Multi-Fit LED Oyster Ceiling Light To Replace Downlight', 'price': '$51', 'reviews': 0}, {'title': 'Brilliant 30cm Tri Colour Dimmable Value LED Oyster Ceiling Light', 'price': '$28.50', 'reviews': 6}, {'title': 'Philips Oyster LED 1400Lm Cool White 12W', 'price': '$35', 'reviews': 3}, {'title': 'Brilliant 18W 320mm White LED Salisbury II Oyster Ceiling Light', 'price': '$45', 'reviews': 21}, {'title': 'Click 10W 260mm IP44 Tricolor LED Oyster Ceiling Light', 'price': '$11.98', 'reviews': 0}, {'title': 'Mercator Astro 30cm Oyster Ceiling Light', 'price': '$25.75', 'reviews': 0}, {'title': 'Mercator Jazz 28W LED Ceiling Oyster Light', 'price': '$82.29', 'reviews': 0}, {'title': 'LEDVANCE 15W 1425lm LED Tri-Colour Ceiling Oyster Light', 'price': '$47', 'reviews': 1}, {'title': 'LEDVANCE 13W 1235lm LED Tri-Colour Ceiling Oyster Light', 'price': '$42', 'reviews': 1}, {'title': 'Ledvance 18W 1850lm LED Tri Colour Luminaire Ultra Slim Oyster Ceiling Light', 'price': '$59.95', 'reviews': 2}, {'title': 'Ledvance 24W 2650lm LED Tri Colour Luminaire Ultra Slim Oyster Ceiling Light', 'price': '$59.70', 'reviews': 2}, {'title': 'Ledvance 32W 3860lm LED Tri Colour Luminaire Ultra Slim Oyster Ceiling Light', 'price': '$79', 'reviews': 3}, {'title': 'Brilliant 30cm Timber Tri-Colour And Dimmable Elba LED Oyster Ceiling Light With Remote', 'price': '$102', 'reviews': 0}, {'title': 'Ledvance LED 1440lm Tri-Colour 18W Ceiling Oyster - 1 Pack', 'price': '$54', 'reviews': 0}, {'title': 'Brilliant 29cm White Basix Dome Batten Fix Shade', 'price': '$7.95', 'reviews': 2}, {'title': 'Mercator Astron 2 T5 62W Ceiling Light', 'price': '$20.50', 'reviews': 0}, {'title': 'Luce Bella 40cm Frosted Glass Ceiling Light', 'price': '$55', 'reviews': 9}, {'title': 'Luce Bella 30cm Glass DIY Ceiling Light', 'price': '$42', 'reviews': 9}, {'title': 'Mercator 24W 35cm Anita CCT LED Square Ceiling Light', 'price': '$90', 'reviews': 2}, {'title': 'Verve Design 18W 33cm Emerson LED Round Ceiling Light', 'price': '$70', 'reviews': 1}, {'title': '3 Light Track Lighting Kit, Directional Ceiling Spotlight for Office, Bedroom, Hallway, Closet Room E14 Base NO Bulb', 'price': '$106.95', 'reviews': 0}, {'title': 'Brilliant Atherton 60W IP44 Oyster Ceiling Light', 'price': '$59', 'reviews': 4}, {'title': 'HPM ATIS Dimmable Ceiling LED Oyster Light', 'price': '$57.75', 'reviews': 1}, {'title': 'Verve 15W 30cm Dion Oyster Ceiling Light', 'price': '$62', 'reviews': 0}, {'title': 'HPM 210mm White Non-Ducted Ceiling Exhaust Fan with Adaptable Light', 'price': '$139.76', 'reviews': 3}, {'title': 'Brilliant 43cm 22W Charlton LED Oyster Ceiling Light', 'price': '$70', 'reviews': 18}, {'title': 'Brilliant 33cm 18W Charlton LED Oyster Ceiling Light', 'price': '$55', 'reviews': 12}, {'title': 'Brilliant 29cm 12W LED Sheffield Oyster Ceiling Light', 'price': '$44', 'reviews': 1}, {'title': 'Brilliant 35cm 18W LED Sheffield Oyster Ceiling Light', 'price': '$44', 'reviews': 10}, {'title': 'Verve Design 20W 43cm Dion Oyster Ceiling Light', 'price': '$62', 'reviews': 0}, {'title': 'Brilliant 12W 25cm CCT IP54 Disq Oyster Ceiling Light', 'price': '$59.90', 'reviews': 0}, {'title': 'Brilliant 18W 30cm CCT IP54 Disq Oyster Ceiling Light', 'price': '$79', 'reviews': 1}, {'title': 'Brilliant 41.5cm 24W LED Sheffield Oyster Ceiling Light', 'price': '$69', 'reviews': 7}, {'title': 'Verve 12W 30cm Dion Oyster Ceiling Light - Twin Pack', 'price': '$74.90', 'reviews': 0}]\n",
      "Extracted 36 lights from page 1.\n",
      "Loading page 2...\n",
      "[FETCH]... ↓ https://www.bunnings.com.au/search/products?&q=cei... | Status: True | Time: 5.83s\n",
      "[SCRAPE].. ◆ Processed https://www.bunnings.com.au/search/products?&q=cei... | Time: 544ms\n",
      "[COMPLETE] ● https://www.bunnings.com.au/search/products?&q=cei... | Status: True | Total: 6.40s\n",
      "[FETCH]... ↓ https://www.bunnings.com.au/search/products?&q=cei... | Status: True | Time: 6.67s\n",
      "[SCRAPE].. ◆ Processed https://www.bunnings.com.au/search/products?&q=cei... | Time: 353ms\n",
      "[LOG] Call LLM for https://www.bunnings.com.au/search/products?&q=ceiling+lights&sort=BoostOrder?&page=2 - block index: 0\n"
     ]
    },
    {
     "name": "stderr",
     "output_type": "stream",
     "text": [
      "16:25:28 - LiteLLM:INFO: utils.py:3075 - \n",
      "LiteLLM completion() model= deepseek-r1-distill-llama-70b; provider = groq\n",
      "INFO:LiteLLM:\n",
      "LiteLLM completion() model= deepseek-r1-distill-llama-70b; provider = groq\n",
      "INFO:httpx:HTTP Request: POST https://api.groq.com/openai/v1/chat/completions \"HTTP/1.1 200 OK\"\n",
      "16:25:51 - LiteLLM:INFO: utils.py:1177 - Wrapper: Completed Call, calling success_handler\n",
      "INFO:LiteLLM:Wrapper: Completed Call, calling success_handler\n",
      "16:25:51 - LiteLLM:INFO: cost_calculator.py:622 - selected model name for cost calculation: groq/deepseek-r1-distill-llama-70b\n",
      "INFO:LiteLLM:selected model name for cost calculation: groq/deepseek-r1-distill-llama-70b\n"
     ]
    },
    {
     "name": "stdout",
     "output_type": "stream",
     "text": [
      "[LOG] Extracted 36 blocks from URL: https://www.bunnings.com.au/search/products?&q=ceiling+lights&sort=BoostOrder?&page=2 block index: 0\n",
      "[EXTRACT]. ■ Completed for https://www.bunnings.com.au/search/products?&q=cei... | Time: 23.69569755892735s\n",
      "[COMPLETE] ● https://www.bunnings.com.au/search/products?&q=cei... | Status: True | Total: 30.74s\n",
      "Extracted data: [{'title': 'Verve Design 9W White 25cm Dion Oyster Ceiling Light', 'price': '$34.90', 'reviews': 0}, {'title': 'Brilliant 24W 380mm White LED Salisbury II Oyster Ceiling Light', 'price': '$67', 'reviews': 12}, {'title': 'Brilliant 12W 260mm White LED Salisbury II Oyster Ceiling Light', 'price': '$39', 'reviews': 5}, {'title': 'Brilliant 38cm Dual Power Tri-Colour Tradie LED Oyster Ceiling Light', 'price': '$85', 'reviews': 0}, {'title': 'Brilliant 30cm Tri-Colour IP54 Kleo Slimline LED Oyster Ceiling Light', 'price': '$49', 'reviews': 0}, {'title': 'Brilliant 23cm IP54 LED Tri-Colour Kleo Slimline Oyster Ceiling Light', 'price': '$39', 'reviews': 0}, {'title': 'Brilliant 30cm Timber Tri-Colour and Dimmable With Remote Elba LED Oyster Ceiling Light', 'price': '$105', 'reviews': 2}, {'title': 'Brilliant 30cm Plug In DIY Tri Colour Calle Multi-Fit LED Oyster Ceiling Light To Replace Downlight', 'price': '$49', 'reviews': 1}, {'title': 'Brilliant 22.5cm Plug in DIY Tri Colour Calle Multi-Fit Led Oyster Ceiling Light to Replace Downlight', 'price': '$39', 'reviews': 1}, {'title': 'Nordlux Lighting Eik 3 Light Adjustable Spotlight White', 'price': '$125', 'reviews': 0}, {'title': 'Evertop Tangier Crystal Chandelier 1 Light', 'price': '$502.88', 'reviews': 0}, {'title': 'Mercator Lighting Noah 4 Light Spotlight Antique Brass', 'price': '$144.48', 'reviews': 0}, {'title': 'Illuminate Pros Economy LED Highbay Light 120W', 'price': '$241', 'reviews': 0}, {'title': 'Illuminate Pros Premium LED Highbay Light 150W', 'price': '$450', 'reviews': 0}, {'title': 'Illuminate Pros Economy LED Highbay Light with Selectable Colour and Wattage', 'price': '$260', 'reviews': 0}, {'title': 'Ledvance 1200 x 300mm Panel Luminaire Ceiling Mount Kit', 'price': '$51.23', 'reviews': 0}, {'title': 'Eglo Pianopoli 10 LED Luminaire Chrome & Crystal Chandelier', 'price': '$838.88', 'reviews': 0}, {'title': 'Telbix Valerie Batten Fix Gold/Crystal', 'price': '$211.68', 'reviews': 0}, {'title': 'Osram Lumilux Circular Fluoro 29mm T9 G10Q 1300Lm Daylight 22W', 'price': '$14.95', 'reviews': 0}, {'title': 'Osram T5C 16mm 2700Lm 840 CW 40W Circular Fluoro', 'price': '$19.95', 'reviews': 0}, {'title': 'Osram T9 29mm 3200Lm 40W Cool White Lumilux Circular Fluorescent', 'price': '$32.95', 'reviews': 0}, {'title': 'Osram Lumilux 29mm T9 GZ10Q 865 Daylight 29W', 'price': '$14.95', 'reviews': 0}, {'title': 'Osram 32W T9 GZ10Q 840 29mm Cool White Lumilux Circular Fluoro', 'price': '$29.95', 'reviews': 0}, {'title': 'Osram 22W T9 GZ10Q 840 29mm Cool White Lumilux Circular Fluoro', 'price': '$14.95', 'reviews': 0}, {'title': 'Osram 32W T9 GZ10Q 865 29mm Daylight Lumilux Circular Fluoro', 'price': '$29.95', 'reviews': 0}, {'title': 'Osram 40W T9 GZ10Q 29mm Daylight Lumilux Circular Fluoro', 'price': '$32.95', 'reviews': 0}, {'title': 'Osram16mm Circular Fluoro T5 GZ10Q 865 Daylight 32W', 'price': '$18.95', 'reviews': 0}, {'title': 'Osram 16mm Circular Fluoro T5 GZ10Q 865 Daylight 22W', 'price': '$15.95', 'reviews': 0}, {'title': 'Osram 16mm Circular Fluoro T5 GZ10Q 840 Cool white 40W', 'price': '$19.95', 'reviews': 0}, {'title': 'Osram 16mm Circular Fluoro T5 GZ10Q 840 Cool white 22W', 'price': '$15.95', 'reviews': 0}, {'title': 'Osram 16mm Circular Fluoro T5 GZ10Q 840 Cool White 32W', 'price': '$18.95', 'reviews': 0}, {'title': 'Ledvance LED 1920lm Tri-Colour 24W Ceiling Oyster - 1 Pack', 'price': '$59', 'reviews': 4}, {'title': 'Mercator Astro 300mm Oyster Light – White', 'price': '$25.75', 'reviews': 0}, {'title': 'Telbix 97Cm Bliss Oyster', 'price': '$919', 'reviews': 0}, {'title': 'Telbix 77Cm Bliss Oyster', 'price': '$549', 'reviews': 0}, {'title': 'Telbix Clear 50W Amelia Oyster', 'price': '$529', 'reviews': 0}]\n",
      "Duplicate light 'Brilliant 30cm Plug In DIY Tri Colour Calle Multi-Fit LED Oyster Ceiling Light To Replace Downlight' found. Skipping.\n",
      "Extracted 35 lights from page 2.\n",
      "Loading page 3...\n",
      "[FETCH]... ↓ https://www.bunnings.com.au/search/products?&q=cei... | Status: True | Time: 5.68s\n",
      "[SCRAPE].. ◆ Processed https://www.bunnings.com.au/search/products?&q=cei... | Time: 558ms\n",
      "[COMPLETE] ● https://www.bunnings.com.au/search/products?&q=cei... | Status: True | Total: 6.26s\n",
      "[FETCH]... ↓ https://www.bunnings.com.au/search/products?&q=cei... | Status: True | Time: 6.40s\n",
      "[SCRAPE].. ◆ Processed https://www.bunnings.com.au/search/products?&q=cei... | Time: 422ms\n",
      "[LOG] Call LLM for https://www.bunnings.com.au/search/products?&q=ceiling+lights&sort=BoostOrder?&page=3 - block index: 0\n"
     ]
    },
    {
     "name": "stderr",
     "output_type": "stream",
     "text": [
      "16:26:07 - LiteLLM:INFO: utils.py:3075 - \n",
      "LiteLLM completion() model= deepseek-r1-distill-llama-70b; provider = groq\n",
      "INFO:LiteLLM:\n",
      "LiteLLM completion() model= deepseek-r1-distill-llama-70b; provider = groq\n",
      "INFO:httpx:HTTP Request: POST https://api.groq.com/openai/v1/chat/completions \"HTTP/1.1 200 OK\"\n",
      "16:26:48 - LiteLLM:INFO: utils.py:1177 - Wrapper: Completed Call, calling success_handler\n",
      "INFO:LiteLLM:Wrapper: Completed Call, calling success_handler\n",
      "16:26:48 - LiteLLM:INFO: cost_calculator.py:622 - selected model name for cost calculation: groq/deepseek-r1-distill-llama-70b\n",
      "INFO:LiteLLM:selected model name for cost calculation: groq/deepseek-r1-distill-llama-70b\n"
     ]
    },
    {
     "name": "stdout",
     "output_type": "stream",
     "text": [
      "[LOG] Extracted 36 blocks from URL: https://www.bunnings.com.au/search/products?&q=ceiling+lights&sort=BoostOrder?&page=3 block index: 0\n",
      "[EXTRACT]. ■ Completed for https://www.bunnings.com.au/search/products?&q=cei... | Time: 42.06182523397729s\n",
      "[COMPLETE] ● https://www.bunnings.com.au/search/products?&q=cei... | Status: True | Total: 48.92s\n",
      "Extracted data: [{'title': 'Telbix Silver Astrid 43 Led Oyster', 'price': '$119', 'reviews': 0}, {'title': 'Telbix Chrome Astrid 33 Led Oyster', 'price': '$99', 'reviews': 0}, {'title': 'Telbix Chrome Astrid 43 Led Oyster', 'price': '$49', 'reviews': 0}, {'title': 'Telbix Oak Astrid 33 Led Oyster', 'price': '$99', 'reviews': 0}, {'title': 'Telbix Oak Astrid 43 Led Oyster', 'price': '$119', 'reviews': 0}, {'title': 'Telbix Black Astrid 33 Led Oyster', 'price': '$99', 'reviews': 0}, {'title': 'Telbix White/Clear Amelia 40 Led Oyster', 'price': '$139', 'reviews': 0}, {'title': 'Telbix White/Clear Amelia 28 Led Oyster', 'price': '$92', 'reviews': 0}, {'title': 'Telbix Chrome/Clear Andela Square Led Oyster', 'price': '$309', 'reviews': 0}, {'title': 'Telbix Chrome/Clear Andela Round Led Oyster', 'price': '$309', 'reviews': 0}, {'title': 'Telbix Satin/Silver/Clear Astrid 60W Smart Led Oyster', 'price': '$369', 'reviews': 0}, {'title': 'Arlec DIY Oyster Sensor Light', 'price': '$48', 'reviews': 37}, {'title': 'Brilliant 38cm Frances Ceiling Light', 'price': '$79', 'reviews': 2}, {'title': 'Brilliant 32cm Frances Round Ceiling Light', 'price': '$55', 'reviews': 5}, {'title': 'Lexi Lighting Hayley Ceiling Light - Small Black', 'price': '$211.20', 'reviews': 0}, {'title': 'Lexi Lighting Hayley Ceiling Light - Small White', 'price': '$211.20', 'reviews': 0}, {'title': 'Lexi Lighting Hayley Ceiling Light - Large White', 'price': '$264', 'reviews': 0}, {'title': 'Lexi Lighting Hayley Ceiling Light - Large Black', 'price': '$264', 'reviews': 0}, {'title': 'Arlec White DIY LED Oyster Sensor Light', 'price': '$78', 'reviews': 14}, {'title': 'Brilliant 24W 400mm Shimmer LED Ceiling Light', 'price': '$52', 'reviews': 2}, {'title': 'Brilliant 18W 350mm Shimmer LED Ceiling Light', 'price': '$42', 'reviews': 0}, {'title': 'Verve Design 25cm White Clipper Ceiling Light', 'price': '$42', 'reviews': 3}, {'title': 'Verve Design Alys 13W LED Ceiling Light', 'price': '$19.90', 'reviews': 0}, {'title': 'Verve Design 15W Mila LED Ceiling Light', 'price': '$36.90', 'reviews': 1}, {'title': 'Arlec 12W Clipper Ceiling Fan Light', 'price': '$53.55', 'reviews': 1}, {'title': 'Oriel Lighting Vana 120 CTS Ceiling Light Black', 'price': '$269.50', 'reviews': 0}, {'title': 'Oriel Lighting Vana 120 CTS Ceiling Light White', 'price': '$269.50', 'reviews': 0}, {'title': 'Mercator 35W 58CM Emilio CCT LED Ceiling Light', 'price': '$249', 'reviews': 0}, {'title': 'Verve Design 22W Smart LED Charlie Ceiling Light', 'price': '$69.90', 'reviews': 10}, {'title': 'Lexi Lighting Brightyts 3 Lights Ceiling Light 105 cm', 'price': '$327.80', 'reviews': 0}, {'title': 'Lexi Lighting Malini 5 Lights Ceiling Light 52 cm', 'price': '$222.20', 'reviews': 0}, {'title': 'Cougar Lighting Zola Close To Ceiling Light White 3lt', 'price': '$935', 'reviews': 0}, {'title': 'Cougar Lighting Zola Close To Ceiling Light Gold 2lt', 'price': '$803', 'reviews': 0}, {'title': 'Cougar Lighting Zola Close To Ceiling Light White 2lt', 'price': '$693', 'reviews': 0}, {'title': 'Lexi Lighting Agamani Dimmable LED Ceiling Light 38 cm', 'price': '$237.60', 'reviews': 0}, {'title': 'Oriel Lighting Orbis Tricolour LED Ceiling Light Black 50cm', 'price': '$262.90', 'reviews': 0}]\n",
      "Extracted 36 lights from page 3.\n",
      "Loading page 4...\n",
      "[FETCH]... ↓ https://www.bunnings.com.au/search/products?&q=cei... | Status: True | Time: 7.59s\n",
      "[SCRAPE].. ◆ Processed https://www.bunnings.com.au/search/products?&q=cei... | Time: 525ms\n",
      "[COMPLETE] ● https://www.bunnings.com.au/search/products?&q=cei... | Status: True | Total: 8.14s\n",
      "[FETCH]... ↓ https://www.bunnings.com.au/search/products?&q=cei... | Status: True | Time: 8.88s\n",
      "[SCRAPE].. ◆ Processed https://www.bunnings.com.au/search/products?&q=cei... | Time: 303ms\n",
      "[LOG] Call LLM for https://www.bunnings.com.au/search/products?&q=ceiling+lights&sort=BoostOrder?&page=4 - block index: 0\n"
     ]
    },
    {
     "name": "stderr",
     "output_type": "stream",
     "text": [
      "16:27:08 - LiteLLM:INFO: utils.py:3075 - \n",
      "LiteLLM completion() model= deepseek-r1-distill-llama-70b; provider = groq\n",
      "INFO:LiteLLM:\n",
      "LiteLLM completion() model= deepseek-r1-distill-llama-70b; provider = groq\n",
      "INFO:httpx:HTTP Request: POST https://api.groq.com/openai/v1/chat/completions \"HTTP/1.1 200 OK\"\n",
      "16:27:22 - LiteLLM:INFO: utils.py:1177 - Wrapper: Completed Call, calling success_handler\n",
      "INFO:LiteLLM:Wrapper: Completed Call, calling success_handler\n",
      "16:27:22 - LiteLLM:INFO: cost_calculator.py:622 - selected model name for cost calculation: groq/deepseek-r1-distill-llama-70b\n",
      "INFO:LiteLLM:selected model name for cost calculation: groq/deepseek-r1-distill-llama-70b\n"
     ]
    },
    {
     "name": "stdout",
     "output_type": "stream",
     "text": [
      "[LOG] Extracted 24 blocks from URL: https://www.bunnings.com.au/search/products?&q=ceiling+lights&sort=BoostOrder?&page=4 block index: 0\n",
      "[EXTRACT]. ■ Completed for https://www.bunnings.com.au/search/products?&q=cei... | Time: 14.735527473967522s\n",
      "[COMPLETE] ● https://www.bunnings.com.au/search/products?&q=cei... | Status: True | Total: 23.94s\n",
      "Extracted data: [{'title': 'Oriel Lighting Orbis Tricolour LED Ceiling Light White 50cm', 'price': '$262.90', 'reviews': 0}, {'title': 'Lexi Lighting Conea Ceiling Light', 'price': '$207', 'reviews': 0}, {'title': 'Vencha Brazza 12 Light Crystal Close to Ceiling Light - Gold', 'price': '$699.99', 'reviews': 0}, {'title': 'Brilliant 24W 30cm Matt White Eris 3-Mode Ceiling Light', 'price': '$105', 'reviews': 0}, {'title': 'Lexi Lighting Gamilah Dimmable 5 Lights LED Ceiling Light 48 cm', 'price': '$235.40', 'reviews': 0}, {'title': 'Vencha Suko 50w LED Close to Ceiling Light - White (3000K)', 'price': '$449.99', 'reviews': 0}, {'title': 'Vencha Suko 50w LED Close to Ceiling Light - Black (5000K)', 'price': '$449.99', 'reviews': 0}, {'title': 'Oriel Lighting Cascara Natural 3 Light Close to Ceiling Light 33cm', 'price': '$217.80', 'reviews': 0}, {'title': 'Verve Design 36W 49cm Eime CCT LED Ceiling Light - White', 'price': '$72', 'reviews': 2}, {'title': 'Verve Design 18W 30cm Black Dina CCT LED Ceiling Light', 'price': '$60', 'reviews': 4}, {'title': 'Lexi Lighting Irie Dimmable 3Lights LED Ceiling Light - 50 cm Chrome', 'price': '$246.40', 'reviews': 0}, {'title': 'Lexi Lighting Irie Dimmable 5Lights LED Ceiling light - White 58 cm', 'price': '$347.60', 'reviews': 0}, {'title': 'Lexi Lighting Irie Dimmable 5Lights LED Ceiling light - Black 58 cm', 'price': '$347.60', 'reviews': 0}, {'title': 'Brilliant 20W 30cm White Moon Dimmable CCT Ceiling Light With Remote', 'price': '$89', 'reviews': 0}, {'title': 'Lexi Lighting Irie Dimmable 5 Lights LED Ceiling Light - Chrome 58 cm', 'price': '$347.60', 'reviews': 0}, {'title': 'Mercator 28W 38.2CM Aaron Ultra Slim CCT Ceiling Light Black', 'price': '$90', 'reviews': 2}, {'title': 'Verve Design 18W 30cm Dina CCT Round LED Ceiling Light - White', 'price': '$60', 'reviews': 0}, {'title': 'Mercator 28W 38.2cm White Aaron Ultra Slim CCT Ceiling Light', 'price': '$90', 'reviews': 2}, {'title': 'Brilliant 18w 30cm Matt Black Paloma DIY Plug-in CCT Ceiling Light', 'price': '$99.90', 'reviews': 1}, {'title': 'Verve Design 36W Grid Connect Smart LED Hana Ceiling Light', 'price': '$89', 'reviews': 30}, {'title': 'Brilliant Black Cambridge DIY Ceiling Mount Coach Light', 'price': '$49', 'reviews': 4}, {'title': 'Verve Design 24W Grid Connect Smart Fabric Shade Ceiling Light - White', 'price': '$112.90', 'reviews': 4}, {'title': 'HPM 210mm White Non-Ducted Ceiling Exhaust Fan with Integrated LED Light', 'price': '$177.50', 'reviews': 7}, {'title': 'Arlec 120cm White Chicago 4 Blade AC Ceiling Fan with Light', 'price': '$109', 'reviews': 33}]\n",
      "Extracted 24 lights from page 4.\n"
     ]
    }
   ],
   "source": [
    "# Read the first 5 pages of the target website. Pass None to real all pages.\n",
    "df = await crawl_products(num_pages=5)  "
   ]
  },
  {
   "cell_type": "markdown",
   "metadata": {},
   "source": [
    "#### Print the data frame"
   ]
  },
  {
   "cell_type": "code",
   "execution_count": 12,
   "metadata": {},
   "outputs": [
    {
     "data": {
      "application/vnd.microsoft.datawrangler.viewer.v0+json": {
       "columns": [
        {
         "name": "index",
         "rawType": "int64",
         "type": "integer"
        },
        {
         "name": "brand",
         "rawType": "object",
         "type": "string"
        },
        {
         "name": "title",
         "rawType": "object",
         "type": "string"
        },
        {
         "name": "price",
         "rawType": "object",
         "type": "string"
        },
        {
         "name": "reviews",
         "rawType": "int64",
         "type": "integer"
        }
       ],
       "conversionMethod": "pd.DataFrame",
       "ref": "56554cbf-0d21-48ac-81c4-4807a0272b79",
       "rows": [
        [
         "0",
         "Luce",
         "Bella 30cm Alabaster Oyster Light",
         "$19.90",
         "14"
        ],
        [
         "1",
         "Philips",
         "Oyster LED 1700Lm Cool White 17W",
         "$45",
         "14"
        ],
        [
         "2",
         "Brilliant",
         "30cm Plug In DIY Tri Colour Calle Multi-Fit LED Oyster Ceiling Light To Replace Downlight",
         "$51",
         "0"
        ],
        [
         "3",
         "Brilliant",
         "30cm Tri Colour Dimmable Value LED Oyster Ceiling Light",
         "$28.50",
         "6"
        ],
        [
         "4",
         "Philips",
         "Oyster LED 1400Lm Cool White 12W",
         "$35",
         "3"
        ],
        [
         "5",
         "Brilliant",
         "18W 320mm White LED Salisbury II Oyster Ceiling Light",
         "$45",
         "21"
        ],
        [
         "6",
         "Click",
         "10W 260mm IP44 Tricolor LED Oyster Ceiling Light",
         "$11.98",
         "0"
        ],
        [
         "7",
         "Mercator",
         "Astro 30cm Oyster Ceiling Light",
         "$25.75",
         "0"
        ],
        [
         "8",
         "Mercator",
         "Jazz 28W LED Ceiling Oyster Light",
         "$82.29",
         "0"
        ],
        [
         "9",
         "LEDVANCE",
         "15W 1425lm LED Tri-Colour Ceiling Oyster Light",
         "$47",
         "1"
        ],
        [
         "10",
         "LEDVANCE",
         "13W 1235lm LED Tri-Colour Ceiling Oyster Light",
         "$42",
         "1"
        ],
        [
         "11",
         "Ledvance",
         "18W 1850lm LED Tri Colour Luminaire Ultra Slim Oyster Ceiling Light",
         "$59.95",
         "2"
        ],
        [
         "12",
         "Ledvance",
         "24W 2650lm LED Tri Colour Luminaire Ultra Slim Oyster Ceiling Light",
         "$59.70",
         "2"
        ],
        [
         "13",
         "Ledvance",
         "32W 3860lm LED Tri Colour Luminaire Ultra Slim Oyster Ceiling Light",
         "$79",
         "3"
        ],
        [
         "14",
         "Brilliant",
         "30cm Timber Tri-Colour And Dimmable Elba LED Oyster Ceiling Light With Remote",
         "$102",
         "0"
        ],
        [
         "15",
         "Ledvance",
         "LED 1440lm Tri-Colour 18W Ceiling Oyster - 1 Pack",
         "$54",
         "0"
        ],
        [
         "16",
         "Brilliant",
         "29cm White Basix Dome Batten Fix Shade",
         "$7.95",
         "2"
        ],
        [
         "17",
         "Mercator",
         "Astron 2 T5 62W Ceiling Light",
         "$20.50",
         "0"
        ],
        [
         "18",
         "Luce",
         "Bella 40cm Frosted Glass Ceiling Light",
         "$55",
         "9"
        ],
        [
         "19",
         "Luce",
         "Bella 30cm Glass DIY Ceiling Light",
         "$42",
         "9"
        ],
        [
         "20",
         "Mercator",
         "24W 35cm Anita CCT LED Square Ceiling Light",
         "$90",
         "2"
        ],
        [
         "21",
         "Verve",
         "Design 18W 33cm Emerson LED Round Ceiling Light",
         "$70",
         "1"
        ],
        [
         "22",
         "3",
         "Light Track Lighting Kit, Directional Ceiling Spotlight for Office, Bedroom, Hallway, Closet Room E14 Base NO Bulb",
         "$106.95",
         "0"
        ],
        [
         "23",
         "Brilliant",
         "Atherton 60W IP44 Oyster Ceiling Light",
         "$59",
         "4"
        ],
        [
         "24",
         "HPM",
         "ATIS Dimmable Ceiling LED Oyster Light",
         "$57.75",
         "1"
        ],
        [
         "25",
         "Verve",
         "15W 30cm Dion Oyster Ceiling Light",
         "$62",
         "0"
        ],
        [
         "26",
         "HPM",
         "210mm White Non-Ducted Ceiling Exhaust Fan with Adaptable Light",
         "$139.76",
         "3"
        ],
        [
         "27",
         "Brilliant",
         "43cm 22W Charlton LED Oyster Ceiling Light",
         "$70",
         "18"
        ],
        [
         "28",
         "Brilliant",
         "33cm 18W Charlton LED Oyster Ceiling Light",
         "$55",
         "12"
        ],
        [
         "29",
         "Brilliant",
         "29cm 12W LED Sheffield Oyster Ceiling Light",
         "$44",
         "1"
        ],
        [
         "30",
         "Brilliant",
         "35cm 18W LED Sheffield Oyster Ceiling Light",
         "$44",
         "10"
        ],
        [
         "31",
         "Verve",
         "Design 20W 43cm Dion Oyster Ceiling Light",
         "$62",
         "0"
        ],
        [
         "32",
         "Brilliant",
         "12W 25cm CCT IP54 Disq Oyster Ceiling Light",
         "$59.90",
         "0"
        ],
        [
         "33",
         "Brilliant",
         "18W 30cm CCT IP54 Disq Oyster Ceiling Light",
         "$79",
         "1"
        ],
        [
         "34",
         "Brilliant",
         "41.5cm 24W LED Sheffield Oyster Ceiling Light",
         "$69",
         "7"
        ],
        [
         "35",
         "Verve",
         "12W 30cm Dion Oyster Ceiling Light - Twin Pack",
         "$74.90",
         "0"
        ],
        [
         "36",
         "Verve",
         "Design 9W White 25cm Dion Oyster Ceiling Light",
         "$34.90",
         "0"
        ],
        [
         "37",
         "Brilliant",
         "24W 380mm White LED Salisbury II Oyster Ceiling Light",
         "$67",
         "12"
        ],
        [
         "38",
         "Brilliant",
         "12W 260mm White LED Salisbury II Oyster Ceiling Light",
         "$39",
         "5"
        ],
        [
         "39",
         "Brilliant",
         "38cm Dual Power Tri-Colour Tradie LED Oyster Ceiling Light",
         "$85",
         "0"
        ],
        [
         "40",
         "Brilliant",
         "30cm Tri-Colour IP54 Kleo Slimline LED Oyster Ceiling Light",
         "$49",
         "0"
        ],
        [
         "41",
         "Brilliant",
         "23cm IP54 LED Tri-Colour Kleo Slimline Oyster Ceiling Light",
         "$39",
         "0"
        ],
        [
         "42",
         "Brilliant",
         "30cm Timber Tri-Colour and Dimmable With Remote Elba LED Oyster Ceiling Light",
         "$105",
         "2"
        ],
        [
         "43",
         "Brilliant",
         "22.5cm Plug in DIY Tri Colour Calle Multi-Fit Led Oyster Ceiling Light to Replace Downlight",
         "$39",
         "1"
        ],
        [
         "44",
         "Nordlux",
         "Lighting Eik 3 Light Adjustable Spotlight White",
         "$125",
         "0"
        ],
        [
         "45",
         "Evertop",
         "Tangier Crystal Chandelier 1 Light",
         "$502.88",
         "0"
        ],
        [
         "46",
         "Mercator",
         "Lighting Noah 4 Light Spotlight Antique Brass",
         "$144.48",
         "0"
        ],
        [
         "47",
         "Illuminate",
         "Pros Economy LED Highbay Light 120W",
         "$241",
         "0"
        ],
        [
         "48",
         "Illuminate",
         "Pros Premium LED Highbay Light 150W",
         "$450",
         "0"
        ],
        [
         "49",
         "Illuminate",
         "Pros Economy LED Highbay Light with Selectable Colour and Wattage",
         "$260",
         "0"
        ]
       ],
       "shape": {
        "columns": 4,
        "rows": 131
       }
      },
      "text/html": [
       "<div>\n",
       "<style scoped>\n",
       "    .dataframe tbody tr th:only-of-type {\n",
       "        vertical-align: middle;\n",
       "    }\n",
       "\n",
       "    .dataframe tbody tr th {\n",
       "        vertical-align: top;\n",
       "    }\n",
       "\n",
       "    .dataframe thead th {\n",
       "        text-align: right;\n",
       "    }\n",
       "</style>\n",
       "<table border=\"1\" class=\"dataframe\">\n",
       "  <thead>\n",
       "    <tr style=\"text-align: right;\">\n",
       "      <th></th>\n",
       "      <th>brand</th>\n",
       "      <th>title</th>\n",
       "      <th>price</th>\n",
       "      <th>reviews</th>\n",
       "    </tr>\n",
       "  </thead>\n",
       "  <tbody>\n",
       "    <tr>\n",
       "      <th>0</th>\n",
       "      <td>Luce</td>\n",
       "      <td>Bella 30cm Alabaster Oyster Light</td>\n",
       "      <td>$19.90</td>\n",
       "      <td>14</td>\n",
       "    </tr>\n",
       "    <tr>\n",
       "      <th>1</th>\n",
       "      <td>Philips</td>\n",
       "      <td>Oyster LED 1700Lm Cool White 17W</td>\n",
       "      <td>$45</td>\n",
       "      <td>14</td>\n",
       "    </tr>\n",
       "    <tr>\n",
       "      <th>2</th>\n",
       "      <td>Brilliant</td>\n",
       "      <td>30cm Plug In DIY Tri Colour Calle Multi-Fit LE...</td>\n",
       "      <td>$51</td>\n",
       "      <td>0</td>\n",
       "    </tr>\n",
       "    <tr>\n",
       "      <th>3</th>\n",
       "      <td>Brilliant</td>\n",
       "      <td>30cm Tri Colour Dimmable Value LED Oyster Ceil...</td>\n",
       "      <td>$28.50</td>\n",
       "      <td>6</td>\n",
       "    </tr>\n",
       "    <tr>\n",
       "      <th>4</th>\n",
       "      <td>Philips</td>\n",
       "      <td>Oyster LED 1400Lm Cool White 12W</td>\n",
       "      <td>$35</td>\n",
       "      <td>3</td>\n",
       "    </tr>\n",
       "    <tr>\n",
       "      <th>...</th>\n",
       "      <td>...</td>\n",
       "      <td>...</td>\n",
       "      <td>...</td>\n",
       "      <td>...</td>\n",
       "    </tr>\n",
       "    <tr>\n",
       "      <th>126</th>\n",
       "      <td>Verve</td>\n",
       "      <td>Design 36W Grid Connect Smart LED Hana Ceiling...</td>\n",
       "      <td>$89</td>\n",
       "      <td>30</td>\n",
       "    </tr>\n",
       "    <tr>\n",
       "      <th>127</th>\n",
       "      <td>Brilliant</td>\n",
       "      <td>Black Cambridge DIY Ceiling Mount Coach Light</td>\n",
       "      <td>$49</td>\n",
       "      <td>4</td>\n",
       "    </tr>\n",
       "    <tr>\n",
       "      <th>128</th>\n",
       "      <td>Verve</td>\n",
       "      <td>Design 24W Grid Connect Smart Fabric Shade Cei...</td>\n",
       "      <td>$112.90</td>\n",
       "      <td>4</td>\n",
       "    </tr>\n",
       "    <tr>\n",
       "      <th>129</th>\n",
       "      <td>HPM</td>\n",
       "      <td>210mm White Non-Ducted Ceiling Exhaust Fan wit...</td>\n",
       "      <td>$177.50</td>\n",
       "      <td>7</td>\n",
       "    </tr>\n",
       "    <tr>\n",
       "      <th>130</th>\n",
       "      <td>Arlec</td>\n",
       "      <td>120cm White Chicago 4 Blade AC Ceiling Fan wit...</td>\n",
       "      <td>$109</td>\n",
       "      <td>33</td>\n",
       "    </tr>\n",
       "  </tbody>\n",
       "</table>\n",
       "<p>131 rows × 4 columns</p>\n",
       "</div>"
      ],
      "text/plain": [
       "         brand                                              title    price  \\\n",
       "0         Luce                  Bella 30cm Alabaster Oyster Light   $19.90   \n",
       "1      Philips                   Oyster LED 1700Lm Cool White 17W      $45   \n",
       "2    Brilliant  30cm Plug In DIY Tri Colour Calle Multi-Fit LE...      $51   \n",
       "3    Brilliant  30cm Tri Colour Dimmable Value LED Oyster Ceil...   $28.50   \n",
       "4      Philips                   Oyster LED 1400Lm Cool White 12W      $35   \n",
       "..         ...                                                ...      ...   \n",
       "126      Verve  Design 36W Grid Connect Smart LED Hana Ceiling...      $89   \n",
       "127  Brilliant      Black Cambridge DIY Ceiling Mount Coach Light      $49   \n",
       "128      Verve  Design 24W Grid Connect Smart Fabric Shade Cei...  $112.90   \n",
       "129        HPM  210mm White Non-Ducted Ceiling Exhaust Fan wit...  $177.50   \n",
       "130      Arlec  120cm White Chicago 4 Blade AC Ceiling Fan wit...     $109   \n",
       "\n",
       "     reviews  \n",
       "0         14  \n",
       "1         14  \n",
       "2          0  \n",
       "3          6  \n",
       "4          3  \n",
       "..       ...  \n",
       "126       30  \n",
       "127        4  \n",
       "128        4  \n",
       "129        7  \n",
       "130       33  \n",
       "\n",
       "[131 rows x 4 columns]"
      ]
     },
     "execution_count": 12,
     "metadata": {},
     "output_type": "execute_result"
    }
   ],
   "source": [
    "df"
   ]
  },
  {
   "cell_type": "markdown",
   "metadata": {},
   "source": [
    "\n",
    "#### Plot the brands based on number of items each brand is selling"
   ]
  },
  {
   "cell_type": "code",
   "execution_count": null,
   "metadata": {},
   "outputs": [
    {
     "data": {
      "text/plain": [
       "<matplotlib.legend.Legend at 0x76a4ff4b96d0>"
      ]
     },
     "execution_count": 7,
     "metadata": {},
     "output_type": "execute_result"
    },
    {
     "data": {
      "image/png": "[encoded data removed]",
      "text/plain": [
       "<Figure size 640x480 with 1 Axes>"
      ]
     },
     "metadata": {},
     "output_type": "display_data"
    }
   ],
   "source": [
    "df.groupby(['brand']).size().sort_values(ascending=False).plot(kind='bar', label='number of products per brand')\n",
    "plt.legend()"
   ]
  },
  {
   "cell_type": "markdown",
   "metadata": {},
   "source": [
    "#### Plot the brands based on total number of reviews for products of each brand"
   ]
  },
  {
   "cell_type": "code",
   "execution_count": 8,
   "metadata": {},
   "outputs": [
    {
     "data": {
      "text/plain": [
       "<Axes: xlabel='brand'>"
      ]
     },
     "execution_count": 8,
     "metadata": {},
     "output_type": "execute_result"
    },
    {
     "data": {
      "image/png": "[encoded data removed]",
      "text/plain": [
       "<Figure size 640x480 with 1 Axes>"
      ]
     },
     "metadata": {},
     "output_type": "display_data"
    }
   ],
   "source": [
    "# Using logy=True parameter for logarithmic y-axis scale\n",
    "df.groupby(['brand']).sum().sort_values('reviews', ascending=False).plot(kind='bar', logy=True, legend=True)\n"
   ]
  },
  {
   "cell_type": "markdown",
   "metadata": {},
   "source": [
    "#### Save the data frame into a CSV file"
   ]
  },
  {
   "cell_type": "code",
   "execution_count": null,
   "metadata": {},
   "outputs": [],
   "source": [
    "save_products_to_csv(df, 'Bunnings_ceiling_lights.csv')"
   ]
  }
 ],
 "metadata": {
  "kernelspec": {
   "display_name": ".venv",
   "language": "python",
   "name": "python3"
  },
  "language_info": {
   "codemirror_mode": {
    "name": "ipython",
    "version": 3
   },
   "file_extension": ".py",
   "mimetype": "text/x-python",
   "name": "python",
   "nbconvert_exporter": "python",
   "pygments_lexer": "ipython3",
   "version": "3.13.2"
  }
 },
 "nbformat": 4,
 "nbformat_minor": 2
}
